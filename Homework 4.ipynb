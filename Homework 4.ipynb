{
 "cells": [
  {
   "cell_type": "markdown",
   "id": "1319f52c",
   "metadata": {},
   "source": [
    "\n",
    "## Heart 2020 Naive Bayes\n"
   ]
  },
  {
   "cell_type": "code",
   "execution_count": 2,
   "id": "e4461a8a",
   "metadata": {},
   "outputs": [
    {
     "data": {
      "text/plain": [
       "(319795, 18)"
      ]
     },
     "execution_count": 2,
     "metadata": {},
     "output_type": "execute_result"
    }
   ],
   "source": [
    "# Load library\n",
    "import pandas as pd\n",
    "\n",
    "# Read the data\n",
    "Heart2020 =  pd.read_csv(r'C:\\Users\\roryq\\Downloads\\heart2020 (1).csv')\n",
    "\n",
    "\n",
    "# Check the shape of the data frame\n",
    "Heart2020.shape"
   ]
  },
  {
   "cell_type": "code",
   "execution_count": 3,
   "id": "44b5e440",
   "metadata": {},
   "outputs": [
    {
     "data": {
      "text/html": [
       "<div>\n",
       "<style scoped>\n",
       "    .dataframe tbody tr th:only-of-type {\n",
       "        vertical-align: middle;\n",
       "    }\n",
       "\n",
       "    .dataframe tbody tr th {\n",
       "        vertical-align: top;\n",
       "    }\n",
       "\n",
       "    .dataframe thead th {\n",
       "        text-align: right;\n",
       "    }\n",
       "</style>\n",
       "<table border=\"1\" class=\"dataframe\">\n",
       "  <thead>\n",
       "    <tr style=\"text-align: right;\">\n",
       "      <th></th>\n",
       "      <th>HeartDisease</th>\n",
       "      <th>BMI</th>\n",
       "      <th>Smoking</th>\n",
       "      <th>AlcoholDrinking</th>\n",
       "      <th>Stroke</th>\n",
       "      <th>PhysicalHealth</th>\n",
       "      <th>MentalHealth</th>\n",
       "      <th>DiffWalking</th>\n",
       "      <th>Sex</th>\n",
       "      <th>AgeCategory</th>\n",
       "      <th>Race</th>\n",
       "      <th>Diabetic</th>\n",
       "      <th>PhysicalActivity</th>\n",
       "      <th>GenHealth</th>\n",
       "      <th>SleepTime</th>\n",
       "      <th>Asthma</th>\n",
       "      <th>KidneyDisease</th>\n",
       "      <th>SkinCancer</th>\n",
       "    </tr>\n",
       "  </thead>\n",
       "  <tbody>\n",
       "    <tr>\n",
       "      <th>0</th>\n",
       "      <td>No</td>\n",
       "      <td>16.60</td>\n",
       "      <td>Yes</td>\n",
       "      <td>No</td>\n",
       "      <td>No</td>\n",
       "      <td>3.0</td>\n",
       "      <td>30.0</td>\n",
       "      <td>No</td>\n",
       "      <td>Female</td>\n",
       "      <td>55-59</td>\n",
       "      <td>White</td>\n",
       "      <td>Yes</td>\n",
       "      <td>Yes</td>\n",
       "      <td>Very good</td>\n",
       "      <td>5.0</td>\n",
       "      <td>Yes</td>\n",
       "      <td>No</td>\n",
       "      <td>Yes</td>\n",
       "    </tr>\n",
       "    <tr>\n",
       "      <th>1</th>\n",
       "      <td>No</td>\n",
       "      <td>20.34</td>\n",
       "      <td>No</td>\n",
       "      <td>No</td>\n",
       "      <td>Yes</td>\n",
       "      <td>0.0</td>\n",
       "      <td>0.0</td>\n",
       "      <td>No</td>\n",
       "      <td>Female</td>\n",
       "      <td>80 or older</td>\n",
       "      <td>White</td>\n",
       "      <td>No</td>\n",
       "      <td>Yes</td>\n",
       "      <td>Very good</td>\n",
       "      <td>7.0</td>\n",
       "      <td>No</td>\n",
       "      <td>No</td>\n",
       "      <td>No</td>\n",
       "    </tr>\n",
       "    <tr>\n",
       "      <th>2</th>\n",
       "      <td>No</td>\n",
       "      <td>26.58</td>\n",
       "      <td>Yes</td>\n",
       "      <td>No</td>\n",
       "      <td>No</td>\n",
       "      <td>20.0</td>\n",
       "      <td>30.0</td>\n",
       "      <td>No</td>\n",
       "      <td>Male</td>\n",
       "      <td>65-69</td>\n",
       "      <td>White</td>\n",
       "      <td>Yes</td>\n",
       "      <td>Yes</td>\n",
       "      <td>Fair</td>\n",
       "      <td>8.0</td>\n",
       "      <td>Yes</td>\n",
       "      <td>No</td>\n",
       "      <td>No</td>\n",
       "    </tr>\n",
       "    <tr>\n",
       "      <th>3</th>\n",
       "      <td>No</td>\n",
       "      <td>24.21</td>\n",
       "      <td>No</td>\n",
       "      <td>No</td>\n",
       "      <td>No</td>\n",
       "      <td>0.0</td>\n",
       "      <td>0.0</td>\n",
       "      <td>No</td>\n",
       "      <td>Female</td>\n",
       "      <td>75-79</td>\n",
       "      <td>White</td>\n",
       "      <td>No</td>\n",
       "      <td>No</td>\n",
       "      <td>Good</td>\n",
       "      <td>6.0</td>\n",
       "      <td>No</td>\n",
       "      <td>No</td>\n",
       "      <td>Yes</td>\n",
       "    </tr>\n",
       "    <tr>\n",
       "      <th>4</th>\n",
       "      <td>No</td>\n",
       "      <td>23.71</td>\n",
       "      <td>No</td>\n",
       "      <td>No</td>\n",
       "      <td>No</td>\n",
       "      <td>28.0</td>\n",
       "      <td>0.0</td>\n",
       "      <td>Yes</td>\n",
       "      <td>Female</td>\n",
       "      <td>40-44</td>\n",
       "      <td>White</td>\n",
       "      <td>No</td>\n",
       "      <td>Yes</td>\n",
       "      <td>Very good</td>\n",
       "      <td>8.0</td>\n",
       "      <td>No</td>\n",
       "      <td>No</td>\n",
       "      <td>No</td>\n",
       "    </tr>\n",
       "  </tbody>\n",
       "</table>\n",
       "</div>"
      ],
      "text/plain": [
       "  HeartDisease    BMI Smoking AlcoholDrinking Stroke  PhysicalHealth  \\\n",
       "0           No  16.60     Yes              No     No             3.0   \n",
       "1           No  20.34      No              No    Yes             0.0   \n",
       "2           No  26.58     Yes              No     No            20.0   \n",
       "3           No  24.21      No              No     No             0.0   \n",
       "4           No  23.71      No              No     No            28.0   \n",
       "\n",
       "   MentalHealth DiffWalking     Sex  AgeCategory   Race Diabetic  \\\n",
       "0          30.0          No  Female        55-59  White      Yes   \n",
       "1           0.0          No  Female  80 or older  White       No   \n",
       "2          30.0          No    Male        65-69  White      Yes   \n",
       "3           0.0          No  Female        75-79  White       No   \n",
       "4           0.0         Yes  Female        40-44  White       No   \n",
       "\n",
       "  PhysicalActivity  GenHealth  SleepTime Asthma KidneyDisease SkinCancer  \n",
       "0              Yes  Very good        5.0    Yes            No        Yes  \n",
       "1              Yes  Very good        7.0     No            No         No  \n",
       "2              Yes       Fair        8.0    Yes            No         No  \n",
       "3               No       Good        6.0     No            No        Yes  \n",
       "4              Yes  Very good        8.0     No            No         No  "
      ]
     },
     "execution_count": 3,
     "metadata": {},
     "output_type": "execute_result"
    }
   ],
   "source": [
    "Heart2020.head(5)"
   ]
  },
  {
   "cell_type": "markdown",
   "id": "f99b7781",
   "metadata": {},
   "source": [
    "To facilitate future modeling process, we will convert the two ordinal variables, `GenHealth` and `AgeCategory`, to integers first."
   ]
  },
  {
   "cell_type": "code",
   "execution_count": 22,
   "id": "97a3cb77",
   "metadata": {},
   "outputs": [],
   "source": [
    "GH_mapper = {'Poor':1,\n",
    "              'Fair':2, \n",
    "              'Good':3,\n",
    "              'Very good':4, \n",
    "              'Excellent':5}\n",
    "\n",
    "GH = Heart2020['GenHealth'].replace(GH_mapper)\n",
    "Heart2020['GenHealth'] = GH"
   ]
  },
  {
   "cell_type": "code",
   "execution_count": 27,
   "id": "128b948b",
   "metadata": {},
   "outputs": [],
   "source": [
    "age_mapper = {'18-24':1,\n",
    "              '25-29':2, \n",
    "              '30-34':3,\n",
    "              '35-39':4, \n",
    "              '40-44':5, \n",
    "              '45-49':6, \n",
    "              '50-54':7,\n",
    "              '55-59':8,  \n",
    "              '60-64':9, \n",
    "              '65-69':10,\n",
    "              '70-74':11,\n",
    "              '75-79':12, \n",
    "              '80 or older':13}\n",
    "\n",
    "Age = Heart2020['AgeCategory'].replace(age_mapper)\n",
    "Heart2020['AgeCategory'] = Age"
   ]
  },
  {
   "cell_type": "code",
   "execution_count": 25,
   "id": "b45856b5",
   "metadata": {},
   "outputs": [
    {
     "data": {
      "text/html": [
       "<div>\n",
       "<style scoped>\n",
       "    .dataframe tbody tr th:only-of-type {\n",
       "        vertical-align: middle;\n",
       "    }\n",
       "\n",
       "    .dataframe tbody tr th {\n",
       "        vertical-align: top;\n",
       "    }\n",
       "\n",
       "    .dataframe thead th {\n",
       "        text-align: right;\n",
       "    }\n",
       "</style>\n",
       "<table border=\"1\" class=\"dataframe\">\n",
       "  <thead>\n",
       "    <tr style=\"text-align: right;\">\n",
       "      <th></th>\n",
       "      <th>HeartDisease</th>\n",
       "      <th>BMI</th>\n",
       "      <th>Smoking</th>\n",
       "      <th>AlcoholDrinking</th>\n",
       "      <th>Stroke</th>\n",
       "      <th>PhysicalHealth</th>\n",
       "      <th>MentalHealth</th>\n",
       "      <th>DiffWalking</th>\n",
       "      <th>Sex</th>\n",
       "      <th>AgeCategory</th>\n",
       "      <th>Race</th>\n",
       "      <th>Diabetic</th>\n",
       "      <th>PhysicalActivity</th>\n",
       "      <th>GenHealth</th>\n",
       "      <th>SleepTime</th>\n",
       "      <th>Asthma</th>\n",
       "      <th>KidneyDisease</th>\n",
       "      <th>SkinCancer</th>\n",
       "    </tr>\n",
       "  </thead>\n",
       "  <tbody>\n",
       "    <tr>\n",
       "      <th>0</th>\n",
       "      <td>No</td>\n",
       "      <td>16.60</td>\n",
       "      <td>Yes</td>\n",
       "      <td>No</td>\n",
       "      <td>No</td>\n",
       "      <td>3.0</td>\n",
       "      <td>30.0</td>\n",
       "      <td>No</td>\n",
       "      <td>Female</td>\n",
       "      <td>8</td>\n",
       "      <td>White</td>\n",
       "      <td>Yes</td>\n",
       "      <td>Yes</td>\n",
       "      <td>4</td>\n",
       "      <td>5.0</td>\n",
       "      <td>Yes</td>\n",
       "      <td>No</td>\n",
       "      <td>Yes</td>\n",
       "    </tr>\n",
       "    <tr>\n",
       "      <th>1</th>\n",
       "      <td>No</td>\n",
       "      <td>20.34</td>\n",
       "      <td>No</td>\n",
       "      <td>No</td>\n",
       "      <td>Yes</td>\n",
       "      <td>0.0</td>\n",
       "      <td>0.0</td>\n",
       "      <td>No</td>\n",
       "      <td>Female</td>\n",
       "      <td>13</td>\n",
       "      <td>White</td>\n",
       "      <td>No</td>\n",
       "      <td>Yes</td>\n",
       "      <td>4</td>\n",
       "      <td>7.0</td>\n",
       "      <td>No</td>\n",
       "      <td>No</td>\n",
       "      <td>No</td>\n",
       "    </tr>\n",
       "    <tr>\n",
       "      <th>2</th>\n",
       "      <td>No</td>\n",
       "      <td>26.58</td>\n",
       "      <td>Yes</td>\n",
       "      <td>No</td>\n",
       "      <td>No</td>\n",
       "      <td>20.0</td>\n",
       "      <td>30.0</td>\n",
       "      <td>No</td>\n",
       "      <td>Male</td>\n",
       "      <td>10</td>\n",
       "      <td>White</td>\n",
       "      <td>Yes</td>\n",
       "      <td>Yes</td>\n",
       "      <td>2</td>\n",
       "      <td>8.0</td>\n",
       "      <td>Yes</td>\n",
       "      <td>No</td>\n",
       "      <td>No</td>\n",
       "    </tr>\n",
       "    <tr>\n",
       "      <th>3</th>\n",
       "      <td>No</td>\n",
       "      <td>24.21</td>\n",
       "      <td>No</td>\n",
       "      <td>No</td>\n",
       "      <td>No</td>\n",
       "      <td>0.0</td>\n",
       "      <td>0.0</td>\n",
       "      <td>No</td>\n",
       "      <td>Female</td>\n",
       "      <td>12</td>\n",
       "      <td>White</td>\n",
       "      <td>No</td>\n",
       "      <td>No</td>\n",
       "      <td>3</td>\n",
       "      <td>6.0</td>\n",
       "      <td>No</td>\n",
       "      <td>No</td>\n",
       "      <td>Yes</td>\n",
       "    </tr>\n",
       "    <tr>\n",
       "      <th>4</th>\n",
       "      <td>No</td>\n",
       "      <td>23.71</td>\n",
       "      <td>No</td>\n",
       "      <td>No</td>\n",
       "      <td>No</td>\n",
       "      <td>28.0</td>\n",
       "      <td>0.0</td>\n",
       "      <td>Yes</td>\n",
       "      <td>Female</td>\n",
       "      <td>5</td>\n",
       "      <td>White</td>\n",
       "      <td>No</td>\n",
       "      <td>Yes</td>\n",
       "      <td>4</td>\n",
       "      <td>8.0</td>\n",
       "      <td>No</td>\n",
       "      <td>No</td>\n",
       "      <td>No</td>\n",
       "    </tr>\n",
       "  </tbody>\n",
       "</table>\n",
       "</div>"
      ],
      "text/plain": [
       "  HeartDisease    BMI Smoking AlcoholDrinking Stroke  PhysicalHealth  \\\n",
       "0           No  16.60     Yes              No     No             3.0   \n",
       "1           No  20.34      No              No    Yes             0.0   \n",
       "2           No  26.58     Yes              No     No            20.0   \n",
       "3           No  24.21      No              No     No             0.0   \n",
       "4           No  23.71      No              No     No            28.0   \n",
       "\n",
       "   MentalHealth DiffWalking     Sex  AgeCategory   Race Diabetic  \\\n",
       "0          30.0          No  Female            8  White      Yes   \n",
       "1           0.0          No  Female           13  White       No   \n",
       "2          30.0          No    Male           10  White      Yes   \n",
       "3           0.0          No  Female           12  White       No   \n",
       "4           0.0         Yes  Female            5  White       No   \n",
       "\n",
       "  PhysicalActivity  GenHealth  SleepTime Asthma KidneyDisease SkinCancer  \n",
       "0              Yes          4        5.0    Yes            No        Yes  \n",
       "1              Yes          4        7.0     No            No         No  \n",
       "2              Yes          2        8.0    Yes            No         No  \n",
       "3               No          3        6.0     No            No        Yes  \n",
       "4              Yes          4        8.0     No            No         No  "
      ]
     },
     "execution_count": 25,
     "metadata": {},
     "output_type": "execute_result"
    }
   ],
   "source": [
    "Heart2020.head(5)"
   ]
  },
  {
   "cell_type": "markdown",
   "id": "4d3e7927",
   "metadata": {},
   "source": [
    "###  Gaussian Naive Bayes \n",
    "Create a naive Bayes model to predict the chance of having heart disease using numerical variables only. \n"
   ]
  },
  {
   "cell_type": "code",
   "execution_count": 16,
   "id": "22f01545",
   "metadata": {},
   "outputs": [
    {
     "data": {
      "text/plain": [
       "0.8721054343203556"
      ]
     },
     "execution_count": 16,
     "metadata": {},
     "output_type": "execute_result"
    }
   ],
   "source": [
    "from sklearn import datasets\n",
    "from sklearn.naive_bayes import GaussianNB\n",
    "from sklearn.model_selection import train_test_split\n",
    "\n",
    "# Specify feature data\n",
    "data_num =  Heart2020[['PhysicalHealth', 'MentalHealth', 'SleepTime', 'AgeCategory', 'GenHealth', 'BMI']]\n",
    "data_cat= Heart2020[['Smoking', 'AlcoholDrinking', 'Stroke', 'DiffWalking', 'Sex', 'Race','Diabetic','PhysicalActivity', 'Asthma', 'KidneyDisease', 'SkinCancer']]\n",
    "\n",
    "# Specify target data\n",
    "y = Heart2020['HeartDisease']\n",
    "\n",
    "# Specify training and test data with 75% training split\n",
    "X_train, X_test, y_train, y_test = train_test_split(\n",
    "    data_num, y, random_state=100, stratify=y, test_size=.25)\n",
    "\n",
    "# Select model type\n",
    "classifier_NB = GaussianNB()\n",
    "\n",
    "# Fit and train model\n",
    "model_NB = classifier_NB.fit(X_train, y_train)\n",
    "\n",
    "# Score Model with training data\n",
    "model_NB.score(X_train, y_train)"
   ]
  },
  {
   "cell_type": "code",
   "execution_count": 17,
   "id": "5fae2361",
   "metadata": {},
   "outputs": [
    {
     "data": {
      "text/plain": [
       "0.8700046279503183"
      ]
     },
     "execution_count": 17,
     "metadata": {},
     "output_type": "execute_result"
    }
   ],
   "source": [
    "# Score model with test data\n",
    "model_NB.score(X_test, y_test)"
   ]
  },
  {
   "cell_type": "markdown",
   "id": "93c192c2",
   "metadata": {},
   "source": [
    "### Multinomial Naive Bayes \n",
    "Create a naive Bayes model to predict the chance of having heart disease using categorical variables only. "
   ]
  },
  {
   "cell_type": "code",
   "execution_count": 39,
   "id": "23f80e7e",
   "metadata": {},
   "outputs": [
    {
     "data": {
      "text/plain": [
       "0.9049018749452776"
      ]
     },
     "execution_count": 39,
     "metadata": {},
     "output_type": "execute_result"
    }
   ],
   "source": [
    "import numpy as np\n",
    "from sklearn.naive_bayes import MultinomialNB\n",
    "from sklearn.feature_extraction.text import CountVectorizer\n",
    "\n",
    "# Specify feature data\n",
    "data_cat1 = pd.get_dummies(data_cat, columns = ['Smoking', 'AlcoholDrinking', 'Stroke', 'DiffWalking', 'Sex', 'Race','Diabetic','PhysicalActivity', 'Asthma', 'KidneyDisease', 'SkinCancer'])\n",
    "\n",
    "# Specify training and test data\n",
    "X_train, X_test, y_train, y_test = train_test_split(\n",
    "    data_cat1, y, random_state=100, stratify=y, test_size=.25)\n",
    "\n",
    "# Create and train model\n",
    "model_MNB = classifier_MN.fit(data_cat1, y)\n",
    "\n",
    "# Score model with test set\n",
    "model_MNB.score(X_test, y_test)"
   ]
  },
  {
   "cell_type": "code",
   "execution_count": 40,
   "id": "26b233d6",
   "metadata": {},
   "outputs": [
    {
     "data": {
      "text/plain": [
       "0.9049640185785879"
      ]
     },
     "execution_count": 40,
     "metadata": {},
     "output_type": "execute_result"
    }
   ],
   "source": [
    "# Score model with training set\n",
    "model_MNB.score(X_train, y_train)"
   ]
  },
  {
   "cell_type": "markdown",
   "id": "f034afeb",
   "metadata": {},
   "source": [
    "###  Naive Bayes Using All Variables \n",
    "Transform all categorical variables to dummy variables or integers and use Gaussian naive Bayes."
   ]
  },
  {
   "cell_type": "code",
   "execution_count": 28,
   "id": "4a51cd47",
   "metadata": {},
   "outputs": [],
   "source": [
    "# Create dummy variables\n",
    "d=Heart2020.loc[:, Heart2020.columns != 'HeartDisease']\n",
    "data_dummy= pd.get_dummies(d)"
   ]
  },
  {
   "cell_type": "code",
   "execution_count": 72,
   "id": "eec6a29d",
   "metadata": {},
   "outputs": [
    {
     "data": {
      "text/plain": [
       "0.8235868015309824"
      ]
     },
     "execution_count": 72,
     "metadata": {},
     "output_type": "execute_result"
    }
   ],
   "source": [
    "# Specify Features\n",
    "features= data_dummy\n",
    "# Specify target\n",
    "y= Heart2020['HeartDisease']\n",
    "\n",
    "# Specify training and test data\n",
    "X_train, X_test, y_train, y_test = train_test_split(\n",
    "    features, y, random_state=100, stratify=y, test_size=.25)\n",
    "\n",
    "# Select model type\n",
    "classifier_NB1 = GaussianNB()\n",
    "\n",
    "# Create and train model\n",
    "model_NB1 = classifier_NB1.fit(X_train, y_train)\n",
    "\n",
    "# Score model with training data\n",
    "model_NB1.score(X_train, y_train)"
   ]
  },
  {
   "cell_type": "code",
   "execution_count": 69,
   "id": "90c72a8d",
   "metadata": {},
   "outputs": [
    {
     "data": {
      "text/plain": [
       "0.822311723723874"
      ]
     },
     "execution_count": 69,
     "metadata": {},
     "output_type": "execute_result"
    }
   ],
   "source": [
    "# Score model with test data\n",
    "model_NB1.score(X_test, y_test)"
   ]
  },
  {
   "cell_type": "markdown",
   "id": "e124b1b3",
   "metadata": {},
   "source": [
    "## Conclusion\n",
    "\n",
    "+ All models were fairly accurate\n",
    "+ The multinomial NB using only categorical variables has the best accuracy\n",
    "+ The Gaussian NB with all variables performed the worst\n",
    "    + Even though the worst it still had an accuracy of over 82% in predicting heart disease\n",
    "\n"
   ]
  }
 ],
 "metadata": {
  "kernelspec": {
   "display_name": "Python 3 (ipykernel)",
   "language": "python",
   "name": "python3"
  },
  "language_info": {
   "codemirror_mode": {
    "name": "ipython",
    "version": 3
   },
   "file_extension": ".py",
   "mimetype": "text/x-python",
   "name": "python",
   "nbconvert_exporter": "python",
   "pygments_lexer": "ipython3",
   "version": "3.10.9"
  }
 },
 "nbformat": 4,
 "nbformat_minor": 5
}
